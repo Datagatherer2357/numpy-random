{
 "cells": [
  {
   "cell_type": "markdown",
   "metadata": {},
   "source": [
    "# The numpy.random package"
   ]
  },
  {
   "cell_type": "code",
   "execution_count": 2,
   "metadata": {},
   "outputs": [],
   "source": [
    "import numpy as np"
   ]
  },
  {
   "cell_type": "code",
   "execution_count": 7,
   "metadata": {
    "scrolled": true
   },
   "outputs": [
    {
     "data": {
      "text/plain": [
       "array([[[0.07492532, 0.77577247],\n",
       "        [0.19092892, 0.89105448],\n",
       "        [0.27164789, 0.01064848],\n",
       "        [0.14016176, 0.53936887]],\n",
       "\n",
       "       [[0.7903811 , 0.1731845 ],\n",
       "        [0.6649285 , 0.87899371],\n",
       "        [0.28401702, 0.1850553 ],\n",
       "        [0.62410742, 0.77266916]],\n",
       "\n",
       "       [[0.79752781, 0.61453855],\n",
       "        [0.70377337, 0.75801034],\n",
       "        [0.43527063, 0.94377549],\n",
       "        [0.88672329, 0.07390956]]])"
      ]
     },
     "execution_count": 7,
     "metadata": {},
     "output_type": "execute_result"
    }
   ],
   "source": [
    "np.random.rand(3,4,2) # produces a 3D array matrix with 3 rows, 4 columns and 2 depths"
   ]
  },
  {
   "cell_type": "markdown",
   "metadata": {},
   "source": [
    "So how does numpy generate random numbers?..."
   ]
  },
  {
   "cell_type": "code",
   "execution_count": 11,
   "metadata": {},
   "outputs": [
    {
     "data": {
      "text/plain": [
       "array([0.52772308, 0.42850687, 0.32604077, ..., 0.41868643, 0.65825937,\n",
       "       0.90481594])"
      ]
     },
     "execution_count": 11,
     "metadata": {},
     "output_type": "execute_result"
    }
   ],
   "source": [
    "x = np.random.rand(10000)\n",
    "x"
   ]
  },
  {
   "cell_type": "code",
   "execution_count": 12,
   "metadata": {},
   "outputs": [
    {
     "data": {
      "image/png": "[encoded data removed]",
      "text/plain": [
       "<Figure size 432x288 with 1 Axes>"
      ]
     },
     "metadata": {},
     "output_type": "display_data"
    }
   ],
   "source": [
    "import matplotlib.pyplot as plt\n",
    "plt.hist(x)\n",
    "plt.show() # pr use: %matplotlib inline"
   ]
  },
  {
   "cell_type": "code",
   "execution_count": 17,
   "metadata": {},
   "outputs": [
    {
     "data": {
      "text/plain": [
       "array([-11.21786899,   4.37711154,   1.56019137,   3.09963555,\n",
       "        -8.96466088,  -3.36301364,   8.66712062,  -3.4633546 ,\n",
       "        -9.30920572, -13.59895369])"
      ]
     },
     "execution_count": 17,
     "metadata": {},
     "output_type": "execute_result"
    }
   ],
   "source": [
    "np.random.uniform(-17,9,10) # lower bound, higher bound, size"
   ]
  },
  {
   "cell_type": "code",
   "execution_count": 21,
   "metadata": {},
   "outputs": [
    {
     "data": {
      "text/plain": [
       "array([-7.60129101e-02, -3.27782041e-02, -2.05299666e-02, -3.48155434e-02,\n",
       "        2.29759090e-01, -1.42827713e-02,  5.28702134e-02,  4.68668348e-02,\n",
       "        2.69501843e-02,  8.61154723e-02,  5.22355094e-02, -2.05951172e-01,\n",
       "        5.46359216e-02, -2.49268600e-02,  3.84878492e-02, -4.91166863e-03,\n",
       "       -8.73424374e-02, -7.66959383e-03, -1.43421505e-03,  8.29682915e-02,\n",
       "       -1.51331430e-01,  7.09390299e-02,  1.17449515e-01, -1.83782267e-02,\n",
       "        6.86205106e-02,  5.93615772e-02,  1.58435150e-02,  3.31809867e-02,\n",
       "        3.08750855e-02, -2.38184395e-02, -1.60209372e-01, -1.60688077e-01,\n",
       "       -1.09553437e-01, -7.23240192e-02, -3.78930248e-02,  4.24602134e-02,\n",
       "       -1.42791773e-01,  2.61607694e-02, -1.16480777e-02,  1.83047221e-01,\n",
       "        7.17269213e-02, -6.26260668e-02,  5.62484269e-02, -1.88147438e-03,\n",
       "       -1.16260164e-01, -2.62815064e-02, -2.81257080e-02, -1.25471308e-01,\n",
       "       -1.26783715e-01, -1.11593620e-01,  2.17971039e-02, -9.26260041e-03,\n",
       "       -8.39205850e-02, -8.83404494e-02, -1.77541951e-01,  3.92164727e-02,\n",
       "       -1.07030931e-01, -2.24979063e-02, -6.89761261e-02, -4.00359530e-02,\n",
       "       -2.13230611e-02,  9.57272662e-02,  3.50322133e-02,  2.35072888e-03,\n",
       "       -8.29242699e-02, -1.10619581e-01,  7.39150772e-02,  4.25578394e-04,\n",
       "       -1.45128145e-01, -7.88829197e-02, -1.62098722e-01,  1.35277701e-01,\n",
       "       -3.22641513e-03,  1.97460995e-02,  4.83934976e-02, -1.20191972e-01,\n",
       "       -5.34337508e-02,  6.60312242e-02, -2.99364519e-01, -1.21841328e-01,\n",
       "        1.13440996e-01, -3.17032152e-02,  9.09603227e-02,  1.48625993e-01,\n",
       "       -6.40475174e-02, -9.33133415e-02, -2.90892788e-02, -9.36924186e-03,\n",
       "       -2.32844714e-02, -3.18161209e-02, -1.87227288e-01, -1.19944038e-01,\n",
       "       -2.82356088e-02,  8.66823257e-02,  1.09647421e-05, -7.20207187e-02,\n",
       "       -9.38395555e-02,  5.98129477e-02, -1.95595285e-02,  4.36830591e-02,\n",
       "        1.51836108e-02,  4.91569550e-03,  1.34544557e-02,  1.03062938e-01,\n",
       "       -1.21384211e-01, -2.28444639e-02, -4.74786853e-02,  1.47715893e-01,\n",
       "       -2.61567530e-01, -1.13181256e-01, -6.70713425e-02,  1.70888486e-01,\n",
       "       -1.02199596e-02, -1.91808234e-01, -4.04729431e-02,  5.38428688e-03,\n",
       "        9.47732987e-03,  2.29188041e-01,  7.18460678e-02,  9.39401139e-02,\n",
       "       -1.10974261e-02, -7.68869552e-03,  8.33359501e-03, -9.34611377e-02,\n",
       "       -6.33765358e-02, -1.85247498e-02, -1.04000246e-01, -5.40623712e-03,\n",
       "        1.34791223e-01,  2.52068360e-01, -9.89936312e-02,  3.65352541e-02,\n",
       "       -1.01860555e-02,  1.67037319e-01,  2.92014984e-03,  1.56056786e-01,\n",
       "        9.22812791e-02,  6.64530909e-03,  1.36429492e-01,  7.86112570e-02,\n",
       "       -3.88645402e-04,  5.87825268e-02,  5.41022105e-02, -1.26626333e-01,\n",
       "        5.07400811e-02,  5.25389011e-02,  1.95642185e-01, -1.57853543e-01,\n",
       "       -4.62384411e-02,  2.69968385e-02, -8.31637217e-03,  4.64903405e-02,\n",
       "        5.74547562e-02,  8.51043100e-02,  1.11305020e-01, -2.27034455e-02,\n",
       "        8.27702493e-02,  1.81153986e-02,  1.46172215e-01,  7.29184473e-02,\n",
       "        6.69621868e-02,  1.01604614e-01,  1.72547081e-01,  1.00226746e-01,\n",
       "       -7.02460774e-02, -5.30847240e-02,  2.33314580e-01,  1.59913066e-02,\n",
       "       -1.58377845e-02,  1.08643265e-01, -7.15434315e-02, -1.10614941e-01,\n",
       "       -2.87019569e-02,  7.57484397e-02, -5.73376279e-02, -5.35814523e-02,\n",
       "       -8.82213562e-02, -2.33325377e-01,  1.49647241e-01, -2.46165727e-01,\n",
       "        7.11952865e-02,  2.36005690e-02, -2.52577913e-02, -9.97678617e-02,\n",
       "       -1.51279740e-01, -1.26552529e-01,  6.43532005e-02, -1.15802264e-01,\n",
       "        8.11814793e-02,  3.02221090e-02, -9.25004477e-02, -1.00303181e-01,\n",
       "       -6.01900296e-02,  3.05510528e-02,  6.94822707e-03,  1.23459631e-01,\n",
       "       -3.91581917e-02, -4.57108925e-02,  5.12018196e-02,  1.13272275e-02,\n",
       "        2.10364883e-01,  8.44924459e-02, -1.00749065e-01,  3.69687723e-02,\n",
       "       -3.67128738e-02, -1.46662211e-01,  2.36866277e-01,  1.18448529e-01,\n",
       "        4.53595417e-04, -2.96583003e-02, -8.31774482e-03,  6.73368563e-02,\n",
       "        1.45822839e-01,  3.36043400e-02,  4.99302453e-02, -1.60148254e-01,\n",
       "       -2.04917289e-01, -1.98676831e-02, -1.88049063e-01, -8.69951288e-02,\n",
       "       -2.01021344e-01, -2.06214010e-01,  2.44737451e-03, -1.88786363e-01,\n",
       "       -2.71235928e-03, -6.11430652e-02, -1.01417076e-01, -2.59021066e-02,\n",
       "       -3.50157692e-02, -8.49069365e-02, -5.33396464e-02,  2.34188884e-02,\n",
       "        1.31870528e-01,  4.41291414e-02, -1.90192739e-01,  8.30275946e-02,\n",
       "       -8.18104826e-02, -7.79808244e-02,  1.22796613e-01, -1.48426092e-01,\n",
       "        1.04119506e-01,  5.76333753e-02, -4.24633281e-02, -7.86278092e-02,\n",
       "        1.38951207e-01, -1.96279157e-02,  1.15947203e-01,  5.60120983e-02,\n",
       "       -1.34295092e-02,  5.40139002e-02, -6.08387958e-02, -1.55825970e-01,\n",
       "       -1.22323895e-01,  1.70125925e-01, -3.54072021e-02,  2.07505756e-01,\n",
       "        2.77988309e-02,  6.28761402e-02,  4.65622547e-02, -5.96786578e-02,\n",
       "        1.06228400e-01,  1.03322878e-01,  8.77060968e-02,  1.70052466e-01,\n",
       "        8.03738990e-02, -3.16121870e-02,  1.02226740e-02,  2.24661613e-02,\n",
       "        4.92617289e-02, -4.05018404e-02, -8.92700431e-02,  4.05469032e-02,\n",
       "        1.08228224e-01, -3.23590679e-02,  2.73840536e-02, -7.06765813e-02,\n",
       "        4.75969704e-02,  1.37111186e-01,  1.57811630e-01,  1.75561700e-01,\n",
       "        1.32432606e-03, -3.34351436e-02, -1.03964281e-01, -5.21729043e-02,\n",
       "        9.51338476e-02, -1.28380926e-01, -1.65729566e-01,  5.54029129e-03,\n",
       "       -1.43056115e-02, -5.79640585e-02,  4.78414115e-02,  5.36677724e-02,\n",
       "        1.25089182e-01, -2.70450347e-01, -1.51485942e-02,  1.92127455e-01,\n",
       "       -1.35955985e-01, -1.37765453e-02, -9.67439308e-02,  8.93099210e-03,\n",
       "        2.35645366e-02,  7.12500349e-02,  1.04031401e-01,  2.82767173e-02,\n",
       "        2.02838618e-01, -3.42141892e-02, -8.61995702e-02, -1.06490078e-01,\n",
       "        1.76162492e-01,  1.04403933e-03,  6.42007093e-02, -6.81774320e-02,\n",
       "       -2.77275265e-03,  1.13963547e-01,  2.27626259e-02,  2.92479076e-01,\n",
       "        1.43837177e-01, -4.47822698e-02, -6.08842009e-03, -6.91213394e-03,\n",
       "        1.89227150e-01,  2.67761322e-01,  1.22402777e-01,  2.27974789e-02,\n",
       "        8.40179871e-02, -2.31057964e-04,  1.00019116e-01,  2.61740151e-02,\n",
       "       -4.20980817e-02,  6.21835920e-02, -6.34573131e-02, -9.49529122e-02,\n",
       "       -2.49771055e-02,  1.13337552e-01,  1.21056235e-01,  1.15645613e-01,\n",
       "       -7.50249950e-02, -9.60081528e-02, -1.57833156e-01,  6.72137804e-03,\n",
       "        1.57928318e-01, -1.60594126e-02, -1.74169968e-01,  8.91515280e-02,\n",
       "        7.06318953e-02,  7.90266734e-02,  7.87728010e-02, -2.39289189e-01,\n",
       "       -1.32527082e-02, -9.54081371e-02,  2.16971220e-01,  1.00649763e-01,\n",
       "        2.57169543e-02,  2.67175941e-02,  8.08130914e-03,  6.62625808e-03,\n",
       "        1.20921534e-01,  4.39133775e-02, -7.75598041e-02,  9.23383147e-02,\n",
       "        6.91183665e-02, -1.11620078e-01, -8.68135960e-02,  5.79287918e-02,\n",
       "       -2.83583999e-02,  5.54169469e-02,  3.55429109e-02,  2.05121034e-01,\n",
       "       -3.57323655e-02,  1.94630124e-01, -3.84677290e-02, -7.16175750e-02,\n",
       "       -1.25902841e-01,  2.19936019e-02, -1.38179374e-02, -1.00858344e-02,\n",
       "        1.42378454e-02, -2.59627382e-02, -2.40644365e-01,  5.01805922e-02,\n",
       "       -9.65457965e-02, -1.35865074e-01,  3.33509772e-02,  1.43620773e-02,\n",
       "       -2.33755727e-01, -1.23884888e-01, -1.29415459e-01, -1.18918205e-01,\n",
       "       -1.40063195e-01, -4.28761386e-02,  5.02278926e-03,  1.17234609e-01,\n",
       "       -1.77138032e-01,  5.95636992e-02, -1.76385836e-01, -3.78081708e-02,\n",
       "       -8.75977273e-02, -9.49680883e-02, -1.03173335e-02, -1.01548232e-02,\n",
       "       -2.59249835e-02,  1.96912052e-02,  3.03133174e-02,  1.70509905e-01,\n",
       "        1.05466335e-01, -1.17298547e-02,  4.87884743e-02, -1.42660312e-01,\n",
       "       -1.66153116e-01, -3.51229875e-02, -5.66400000e-02,  1.66244620e-01,\n",
       "        9.28874035e-02, -7.49111892e-02,  3.52077495e-02,  6.83556230e-03,\n",
       "        1.52738890e-01, -1.24005008e-01, -1.23143780e-01,  4.96420891e-02,\n",
       "       -2.05708735e-01, -5.47217974e-02, -5.85288660e-02, -4.09502055e-02,\n",
       "       -4.01176328e-02,  4.45978486e-02,  6.21088028e-02,  2.18099797e-02,\n",
       "       -3.62803553e-02,  1.11866261e-01,  1.08794936e-01,  1.32784385e-01,\n",
       "        1.53378112e-01, -1.15223852e-01,  1.55274030e-01, -1.61030942e-01,\n",
       "        6.14489886e-02,  6.65579472e-02, -1.27686605e-01,  1.92036625e-01,\n",
       "       -8.71086553e-02,  3.12364101e-02,  1.56234760e-01,  2.70746886e-02,\n",
       "       -2.29654623e-01,  1.73406445e-01,  1.21639544e-01,  7.14146578e-02,\n",
       "       -8.43831195e-02,  1.83715980e-02, -1.55336912e-01,  4.53494023e-02,\n",
       "       -8.61728524e-02, -1.33294465e-01, -4.76420609e-02, -1.53280870e-02,\n",
       "       -4.52202557e-02, -4.91912060e-03,  1.89892623e-02, -1.23490547e-01,\n",
       "       -3.17184882e-02,  9.71667224e-02,  7.00202199e-02,  9.41519526e-02,\n",
       "        1.97360138e-02, -1.24606897e-01, -4.78351157e-02,  7.04177698e-02,\n",
       "        3.15520394e-02, -1.20920253e-01,  1.17457938e-01,  9.43500567e-02,\n",
       "       -4.36870543e-02,  2.27671522e-02,  2.08086295e-01, -9.53083539e-02,\n",
       "       -6.82688720e-02, -4.74873007e-02, -1.70860239e-02, -3.29031046e-02,\n",
       "        9.23096228e-02,  7.55582274e-02, -3.92270202e-02, -7.31593668e-02,\n",
       "        4.97106349e-02, -7.82623822e-02,  7.64863643e-02,  1.98753319e-01,\n",
       "        8.91133098e-02, -1.65016500e-01, -8.26774556e-03,  8.90562934e-02,\n",
       "        2.87528232e-03,  6.94503545e-02, -1.18299406e-01,  1.33409909e-03,\n",
       "        5.57318593e-02, -3.23240280e-02, -3.20591887e-02,  6.12776673e-02,\n",
       "       -7.82571063e-02, -3.00125744e-02, -2.64619001e-02,  7.36631505e-02,\n",
       "       -1.77065137e-01,  6.86215128e-02,  7.08560868e-02, -1.16809032e-01,\n",
       "       -7.24006214e-02,  3.12872607e-02, -1.53293985e-01, -1.62108142e-01,\n",
       "        1.42922100e-03, -1.31778778e-01,  9.71660683e-02,  5.01920459e-02,\n",
       "        7.17350325e-02, -2.19285220e-02,  7.72782491e-02, -8.74617978e-02,\n",
       "        2.42885983e-03,  6.59784579e-02,  9.04924340e-02, -4.12738750e-02,\n",
       "        4.06896861e-02, -4.64379359e-02,  5.14136781e-03, -1.19355886e-01,\n",
       "       -2.86567376e-02, -1.98493420e-02, -1.40378810e-01,  3.50035763e-03,\n",
       "        7.25353050e-02, -5.73893796e-02, -1.17919603e-01, -3.40544855e-02,\n",
       "       -3.98397386e-02,  3.79386360e-02,  2.90858632e-02,  1.65213182e-01,\n",
       "       -1.22495621e-01,  3.89024351e-03, -9.25380431e-03,  7.48509573e-02,\n",
       "        6.44613462e-02, -1.88475217e-01, -7.77867532e-02, -4.37151710e-03,\n",
       "        1.56544941e-02, -3.30806290e-02, -1.80403805e-01, -4.44761282e-02,\n",
       "       -1.86267941e-02,  5.38196940e-02, -9.37067247e-02, -1.45872831e-01,\n",
       "       -4.90480444e-02,  2.16720153e-03, -7.30715366e-02,  3.25527785e-02,\n",
       "       -7.19992972e-02,  2.53761099e-01,  8.91080850e-02, -1.67026892e-01,\n",
       "       -1.80900769e-03,  8.92986205e-03, -3.24490827e-02, -2.50374261e-01,\n",
       "        6.87904264e-02,  1.03065691e-01, -7.74423650e-02, -7.91397198e-02,\n",
       "       -9.61327338e-02,  9.02935362e-02, -1.02686022e-01,  4.56889772e-02,\n",
       "        2.08112684e-01,  6.07116285e-04,  3.01852494e-03,  1.04074947e-01,\n",
       "        5.74158814e-02, -6.96967309e-02, -1.34496308e-01,  8.41027261e-02,\n",
       "       -7.39093786e-02,  2.45894168e-01, -1.04558331e-01,  1.33795934e-02,\n",
       "        5.16236434e-02, -6.87292117e-02, -2.97099247e-02,  5.86229816e-02,\n",
       "       -3.20159405e-05, -9.36611642e-02, -1.48775951e-02,  1.89228349e-01,\n",
       "        1.87496625e-02,  3.74287007e-02,  2.19697663e-02,  2.63501524e-01,\n",
       "       -9.51064030e-03, -7.80811462e-02, -1.49266123e-02, -1.14472923e-02,\n",
       "        1.06618964e-02, -1.98379880e-01, -2.09751167e-01,  1.55926107e-01,\n",
       "       -6.73213301e-03,  9.73849900e-02,  6.10330401e-02, -6.85951028e-02,\n",
       "       -8.22746674e-02,  8.13398806e-02,  1.06087918e-01, -3.50087360e-03,\n",
       "       -6.69020500e-02,  1.18166396e-01,  1.15439593e-01, -6.94860459e-02,\n",
       "       -1.48360144e-02, -8.00406435e-02,  1.70257983e-01, -7.90380625e-02,\n",
       "        1.27845586e-02, -1.10907941e-01,  1.98011683e-01, -7.66054913e-02,\n",
       "        1.25357485e-01, -7.40848474e-03,  1.92268442e-01,  1.73644118e-02,\n",
       "        1.38834652e-01,  1.29519456e-01,  2.45685672e-03, -5.63895717e-02,\n",
       "        4.88636386e-02,  4.11192558e-02,  6.95903102e-02,  1.20254761e-01,\n",
       "        3.29459950e-02,  1.01061187e-01,  2.30183720e-02, -9.02178865e-02,\n",
       "       -5.23332957e-02, -4.19733754e-02,  5.51790925e-02, -1.63475313e-01,\n",
       "        7.36958907e-02,  5.15536016e-02, -1.44063971e-01, -2.22993093e-02,\n",
       "       -7.87748036e-03, -1.30627813e-01, -1.38616228e-02,  1.01132358e-01,\n",
       "       -4.31013244e-03, -1.07242343e-02, -5.53024900e-02,  3.25992087e-02,\n",
       "       -9.04574299e-02, -2.08815964e-01,  3.68245222e-02, -6.98935026e-02,\n",
       "       -4.63474622e-02,  7.24178937e-02,  5.22300410e-03, -1.88706245e-01,\n",
       "        1.56284237e-01, -1.33689255e-01, -6.37780702e-02,  1.07097676e-01,\n",
       "        1.98017970e-02,  7.93442938e-02,  2.75853873e-02,  8.54989882e-02,\n",
       "       -7.25138226e-02, -1.64870183e-01, -2.07165729e-02,  2.15360244e-01,\n",
       "        8.30837193e-02,  7.60284973e-03, -3.06436388e-02, -1.33324633e-02,\n",
       "        5.93868168e-02, -1.11589490e-01, -1.71071163e-01, -4.55008946e-02,\n",
       "        1.63686299e-02, -6.25431543e-04,  1.12806398e-02, -7.54013331e-03,\n",
       "        1.60360964e-01,  1.08727717e-01, -6.23818525e-02,  6.55712751e-02,\n",
       "        2.13094096e-01, -7.46094854e-02,  2.76961624e-01, -2.87342748e-02,\n",
       "        1.20683074e-01, -6.71491041e-02, -4.71332651e-02, -1.51568899e-01,\n",
       "       -1.44157398e-01, -1.25415385e-01, -1.40488164e-01,  2.07656475e-02,\n",
       "       -2.62525961e-01,  1.08007212e-02,  5.74349993e-02,  1.77248413e-01,\n",
       "        1.53630046e-01,  7.42337929e-02, -3.43435684e-02, -1.53457819e-01,\n",
       "       -5.93676809e-02, -7.45229542e-02, -6.25733737e-03,  1.48918327e-02,\n",
       "        2.80978869e-02,  1.23475574e-01, -5.31119912e-02,  3.00324082e-02,\n",
       "       -1.15600608e-01, -2.44289016e-03,  6.60095353e-02,  1.62047602e-01,\n",
       "       -5.52538051e-02,  9.06120966e-02, -1.56751505e-01, -2.01447647e-02,\n",
       "       -1.73550898e-01,  3.57046049e-02,  1.05312314e-01,  8.29578656e-02,\n",
       "        1.99698333e-01, -8.80445731e-02, -8.32876652e-02, -1.60681164e-01,\n",
       "       -1.94242536e-01, -3.12960210e-02, -9.16998339e-02,  4.25831341e-02,\n",
       "        6.03271022e-02,  2.07475665e-02, -9.79282886e-02, -1.28941494e-01,\n",
       "       -2.23891527e-02, -4.60766488e-02, -1.69168790e-01, -1.32376781e-01,\n",
       "       -8.83973729e-03,  2.69653927e-02, -2.60280857e-02, -3.26082414e-02,\n",
       "        6.91487085e-02,  3.25405593e-02, -8.90026529e-03,  4.11472979e-02,\n",
       "        7.10534169e-02, -8.76507829e-02,  7.61283441e-02,  1.73566449e-01,\n",
       "       -7.00740570e-02, -4.22811039e-02,  2.07543138e-01,  6.10126924e-02,\n",
       "        9.34213921e-02, -1.62900416e-02,  4.81467057e-02, -1.55931169e-01,\n",
       "        5.59536736e-03,  4.15680633e-02, -5.27248364e-02,  1.58888226e-01,\n",
       "       -6.21077080e-02,  4.88569716e-03,  1.58317766e-02, -5.70366845e-02,\n",
       "        5.96214946e-02,  1.38645780e-01, -1.04404260e-01,  5.98296244e-02,\n",
       "        6.95248765e-02,  1.31815164e-01,  2.37960379e-01,  3.44270779e-02,\n",
       "       -3.55345792e-02, -1.46072187e-01, -9.79573978e-02,  9.46780224e-02,\n",
       "        3.89899859e-03,  7.01165604e-02, -2.14389675e-02,  1.16932248e-01,\n",
       "        1.37523639e-01,  9.38391570e-02, -6.18893935e-02, -1.01517107e-01,\n",
       "       -2.19516037e-02, -1.08814854e-01,  6.03000284e-03,  6.89387938e-02,\n",
       "        5.71909898e-02, -8.51076592e-02,  7.66542381e-02,  1.69600460e-01,\n",
       "       -3.33430894e-02, -4.44439090e-02,  1.50103251e-01, -1.01979551e-01,\n",
       "       -7.33182104e-02,  7.07341092e-02, -1.03651905e-01, -1.94808251e-01,\n",
       "       -4.99872671e-02,  4.88499172e-02,  1.60402260e-02,  1.07700519e-01,\n",
       "        1.39532515e-01, -5.45319649e-02, -6.17855349e-02,  1.81393559e-01,\n",
       "        1.51912251e-01, -7.31045200e-03,  7.24672839e-02,  1.48037754e-01,\n",
       "        3.66802767e-02,  2.41085908e-02,  9.08821365e-03,  1.44737460e-01,\n",
       "       -1.61109462e-01, -1.83544400e-02, -5.57749094e-03, -2.58411165e-02,\n",
       "        1.22627403e-01,  9.01741564e-02, -1.59063074e-01,  1.32906484e-01,\n",
       "        3.93402380e-02, -1.86041824e-01,  1.63384201e-01,  8.99401938e-02,\n",
       "       -1.48659473e-01,  4.35595355e-02,  9.88247277e-02,  8.03692299e-03,\n",
       "        8.94686233e-02,  1.37819116e-01, -3.95549838e-02, -2.39754727e-01,\n",
       "        4.99314030e-02,  4.24383736e-02,  1.46633795e-02, -4.47226960e-02,\n",
       "        3.01983537e-02,  9.87973676e-02,  9.85128298e-02, -1.74551244e-01,\n",
       "        1.28214750e-01,  5.10065121e-02, -8.94055480e-02, -1.10844411e-02,\n",
       "        7.62202991e-02, -9.14129133e-02, -1.25949801e-01, -1.39582118e-01,\n",
       "        2.53323814e-02,  1.70525956e-02, -7.75966130e-02, -9.28408230e-02,\n",
       "        6.53571343e-02, -7.19027439e-02, -5.47517342e-03,  1.24930398e-03,\n",
       "       -9.72509982e-02, -7.02607769e-02,  1.37126805e-01, -1.59350025e-01,\n",
       "       -1.62069694e-02, -3.07545845e-02, -2.48132990e-01, -7.86419211e-02,\n",
       "       -7.19990167e-02,  6.56763144e-02, -1.10267969e-01, -1.19629812e-01,\n",
       "        1.89447371e-02, -2.06879196e-01, -1.46746364e-01, -2.06677433e-01,\n",
       "        3.41189732e-02, -3.98256119e-02,  6.17002674e-02, -3.09124648e-02,\n",
       "        1.75553974e-01,  1.03358201e-01, -4.23360565e-02,  4.12900945e-02,\n",
       "       -2.48390824e-02, -2.03100528e-02,  5.31817873e-02,  2.83592451e-02,\n",
       "       -9.46869415e-02, -1.70608964e-01, -2.00503310e-02, -3.97947777e-03,\n",
       "       -1.75536129e-02,  7.74340769e-02,  1.66733559e-01,  1.92105502e-01,\n",
       "       -6.53427037e-02, -1.72678249e-01,  5.56614695e-02,  2.81383885e-02,\n",
       "       -8.81443371e-02, -6.48049575e-02,  1.12795635e-01,  5.00528706e-02,\n",
       "        1.52767678e-01,  4.28677212e-02, -1.29096990e-01, -3.22968081e-03,\n",
       "       -9.57046242e-02,  1.60167512e-02,  6.63218255e-02, -5.12307490e-02,\n",
       "       -5.60817547e-02, -1.24003232e-01, -1.26705797e-01,  1.02246257e-01,\n",
       "       -3.49058151e-02,  1.08313863e-01,  5.06144873e-02, -6.79144281e-02,\n",
       "        2.55590603e-03,  1.44904153e-01, -8.46203349e-02, -3.56548624e-02,\n",
       "       -2.78692069e-02, -1.19013349e-01,  7.98546179e-02,  1.52420875e-02,\n",
       "       -2.85527606e-02, -5.59507790e-03, -2.95367528e-02,  8.80716112e-02,\n",
       "        1.37003149e-01, -1.37351285e-01,  1.13789976e-02,  2.69481717e-02,\n",
       "        5.13583246e-02, -2.28368389e-02, -6.32940088e-02, -2.12371135e-01,\n",
       "        3.84972895e-02, -3.87008719e-02, -6.80763868e-02,  7.98425832e-02,\n",
       "       -2.09709690e-02,  7.63597462e-02,  2.72573020e-02, -1.68238317e-02,\n",
       "       -9.25405151e-02,  1.79572184e-01,  6.10820150e-02, -1.00805997e-01,\n",
       "        1.11811248e-01,  1.95237627e-01,  8.85111889e-02, -6.92807599e-02,\n",
       "        5.22807015e-02, -3.83867038e-02, -2.21812747e-01, -6.48811028e-02,\n",
       "       -5.70060019e-02, -8.83674324e-04, -3.40839158e-02,  1.43482272e-01,\n",
       "       -5.65998415e-02, -1.76242320e-02,  4.29037996e-02,  5.89527172e-02,\n",
       "       -3.79378241e-02, -6.17225914e-02,  9.52419222e-02, -8.63061157e-02,\n",
       "        7.61232102e-02,  1.52177714e-01, -1.59340881e-01, -1.42697315e-02,\n",
       "        3.08580550e-02,  4.80439464e-02, -5.67914178e-02, -1.98884928e-02,\n",
       "        7.01180963e-02, -2.21285463e-01,  8.68977827e-02,  7.89301542e-02])"
      ]
     },
     "execution_count": 21,
     "metadata": {},
     "output_type": "execute_result"
    }
   ],
   "source": [
    "y = np.random.normal(0, 0.1,1000) # location, scale, size\n",
    "y"
   ]
  },
  {
   "cell_type": "code",
   "execution_count": 22,
   "metadata": {},
   "outputs": [
    {
     "data": {
      "text/plain": [
       "(array([  8.,  28.,  86., 150., 222., 214., 171.,  80.,  31.,  10.]),\n",
       " array([-0.29936452, -0.24018016, -0.1809958 , -0.12181144, -0.06262708,\n",
       "        -0.00344272,  0.05574164,  0.114926  ,  0.17411036,  0.23329472,\n",
       "         0.29247908]),\n",
       " <a list of 10 Patch objects>)"
      ]
     },
     "execution_count": 22,
     "metadata": {},
     "output_type": "execute_result"
    },
    {
     "data": {
      "image/png": "[encoded data removed]",
      "text/plain": [
       "<Figure size 432x288 with 1 Axes>"
      ]
     },
     "metadata": {},
     "output_type": "display_data"
    }
   ],
   "source": [
    "plt.hist(y) # shows the normal probability distribution (bell curve)"
   ]
  },
  {
   "cell_type": "code",
   "execution_count": null,
   "metadata": {},
   "outputs": [],
   "source": []
  }
 ],
 "metadata": {
  "kernelspec": {
   "display_name": "Python 3",
   "language": "python",
   "name": "python3"
  },
  "language_info": {
   "codemirror_mode": {
    "name": "ipython",
    "version": 3
   },
   "file_extension": ".py",
   "mimetype": "text/x-python",
   "name": "python",
   "nbconvert_exporter": "python",
   "pygments_lexer": "ipython3",
   "version": "3.6.5"
  }
 },
 "nbformat": 4,
 "nbformat_minor": 2
}
